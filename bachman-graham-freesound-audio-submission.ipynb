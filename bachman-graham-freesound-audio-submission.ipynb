{
 "cells": [
  {
   "cell_type": "markdown",
   "metadata": {
    "papermill": {
     "duration": 0.017521,
     "end_time": "2021-05-02T03:51:33.112872",
     "exception": false,
     "start_time": "2021-05-02T03:51:33.095351",
     "status": "completed"
    },
    "tags": []
   },
   "source": [
    "# Freesound General Purpose Audio Tagging Submission Notebook\n",
    "### Graham Bachman\n",
    "\n",
    "This notebook is just the code used to generate predictions on the test set of spectrogram images for the kaggle competiton. "
   ]
  },
  {
   "cell_type": "markdown",
   "metadata": {
    "papermill": {
     "duration": 0.015806,
     "end_time": "2021-05-02T03:51:33.144874",
     "exception": false,
     "start_time": "2021-05-02T03:51:33.129068",
     "status": "completed"
    },
    "tags": []
   },
   "source": [
    "## Load Data"
   ]
  },
  {
   "cell_type": "code",
   "execution_count": 1,
   "metadata": {
    "execution": {
     "iopub.execute_input": "2021-05-02T03:51:33.180343Z",
     "iopub.status.busy": "2021-05-02T03:51:33.179746Z",
     "iopub.status.idle": "2021-05-02T03:51:38.835141Z",
     "shell.execute_reply": "2021-05-02T03:51:38.834332Z"
    },
    "papermill": {
     "duration": 5.674864,
     "end_time": "2021-05-02T03:51:38.835332",
     "exception": false,
     "start_time": "2021-05-02T03:51:33.160468",
     "status": "completed"
    },
    "tags": []
   },
   "outputs": [],
   "source": [
    "import os\n",
    "import numpy as np\n",
    "import pandas as pd\n",
    "import matplotlib.pyplot as plt\n",
    "import math\n",
    "\n",
    "import keras\n",
    "from keras_preprocessing.image import ImageDataGenerator"
   ]
  },
  {
   "cell_type": "markdown",
   "metadata": {
    "papermill": {
     "duration": 0.015938,
     "end_time": "2021-05-02T03:51:38.867680",
     "exception": false,
     "start_time": "2021-05-02T03:51:38.851742",
     "status": "completed"
    },
    "tags": []
   },
   "source": [
    "## Create Dataframes"
   ]
  },
  {
   "cell_type": "code",
   "execution_count": 2,
   "metadata": {
    "execution": {
     "iopub.execute_input": "2021-05-02T03:51:38.906308Z",
     "iopub.status.busy": "2021-05-02T03:51:38.905597Z",
     "iopub.status.idle": "2021-05-02T03:51:38.964621Z",
     "shell.execute_reply": "2021-05-02T03:51:38.965061Z"
    },
    "papermill": {
     "duration": 0.081451,
     "end_time": "2021-05-02T03:51:38.965229",
     "exception": false,
     "start_time": "2021-05-02T03:51:38.883778",
     "status": "completed"
    },
    "tags": []
   },
   "outputs": [
    {
     "name": "stdout",
     "output_type": "stream",
     "text": [
      "(9473, 4)\n"
     ]
    },
    {
     "data": {
      "text/html": [
       "<div>\n",
       "<style scoped>\n",
       "    .dataframe tbody tr th:only-of-type {\n",
       "        vertical-align: middle;\n",
       "    }\n",
       "\n",
       "    .dataframe tbody tr th {\n",
       "        vertical-align: top;\n",
       "    }\n",
       "\n",
       "    .dataframe thead th {\n",
       "        text-align: right;\n",
       "    }\n",
       "</style>\n",
       "<table border=\"1\" class=\"dataframe\">\n",
       "  <thead>\n",
       "    <tr style=\"text-align: right;\">\n",
       "      <th></th>\n",
       "      <th>fname</th>\n",
       "      <th>label</th>\n",
       "      <th>manually_verified</th>\n",
       "      <th>image_file</th>\n",
       "    </tr>\n",
       "  </thead>\n",
       "  <tbody>\n",
       "    <tr>\n",
       "      <th>0</th>\n",
       "      <td>00044347.wav</td>\n",
       "      <td>Hi-hat</td>\n",
       "      <td>0</td>\n",
       "      <td>00044347.jpg</td>\n",
       "    </tr>\n",
       "    <tr>\n",
       "      <th>1</th>\n",
       "      <td>001ca53d.wav</td>\n",
       "      <td>Saxophone</td>\n",
       "      <td>1</td>\n",
       "      <td>001ca53d.jpg</td>\n",
       "    </tr>\n",
       "    <tr>\n",
       "      <th>2</th>\n",
       "      <td>002d256b.wav</td>\n",
       "      <td>Trumpet</td>\n",
       "      <td>0</td>\n",
       "      <td>002d256b.jpg</td>\n",
       "    </tr>\n",
       "    <tr>\n",
       "      <th>3</th>\n",
       "      <td>0033e230.wav</td>\n",
       "      <td>Glockenspiel</td>\n",
       "      <td>1</td>\n",
       "      <td>0033e230.jpg</td>\n",
       "    </tr>\n",
       "    <tr>\n",
       "      <th>4</th>\n",
       "      <td>00353774.wav</td>\n",
       "      <td>Cello</td>\n",
       "      <td>1</td>\n",
       "      <td>00353774.jpg</td>\n",
       "    </tr>\n",
       "  </tbody>\n",
       "</table>\n",
       "</div>"
      ],
      "text/plain": [
       "          fname         label  manually_verified    image_file\n",
       "0  00044347.wav        Hi-hat                  0  00044347.jpg\n",
       "1  001ca53d.wav     Saxophone                  1  001ca53d.jpg\n",
       "2  002d256b.wav       Trumpet                  0  002d256b.jpg\n",
       "3  0033e230.wav  Glockenspiel                  1  0033e230.jpg\n",
       "4  00353774.wav         Cello                  1  00353774.jpg"
      ]
     },
     "execution_count": 2,
     "metadata": {},
     "output_type": "execute_result"
    }
   ],
   "source": [
    "train = pd.read_csv('../input/freesound-audio-tagging/train.csv')\n",
    "train['image_file'] = train.fname.apply(lambda x : x[:-4] + '.jpg')\n",
    "print(train.shape)\n",
    "train.head()"
   ]
  },
  {
   "cell_type": "code",
   "execution_count": 3,
   "metadata": {
    "execution": {
     "iopub.execute_input": "2021-05-02T03:51:39.005104Z",
     "iopub.status.busy": "2021-05-02T03:51:39.004446Z",
     "iopub.status.idle": "2021-05-02T03:51:39.053465Z",
     "shell.execute_reply": "2021-05-02T03:51:39.052587Z"
    },
    "papermill": {
     "duration": 0.070963,
     "end_time": "2021-05-02T03:51:39.053664",
     "exception": false,
     "start_time": "2021-05-02T03:51:38.982701",
     "status": "completed"
    },
    "tags": []
   },
   "outputs": [
    {
     "name": "stdout",
     "output_type": "stream",
     "text": [
      "(9400, 6)\n"
     ]
    },
    {
     "data": {
      "text/html": [
       "<div>\n",
       "<style scoped>\n",
       "    .dataframe tbody tr th:only-of-type {\n",
       "        vertical-align: middle;\n",
       "    }\n",
       "\n",
       "    .dataframe tbody tr th {\n",
       "        vertical-align: top;\n",
       "    }\n",
       "\n",
       "    .dataframe thead th {\n",
       "        text-align: right;\n",
       "    }\n",
       "</style>\n",
       "<table border=\"1\" class=\"dataframe\">\n",
       "  <thead>\n",
       "    <tr style=\"text-align: right;\">\n",
       "      <th></th>\n",
       "      <th>fname</th>\n",
       "      <th>label</th>\n",
       "      <th>usage</th>\n",
       "      <th>freesound_id</th>\n",
       "      <th>license</th>\n",
       "      <th>image_file</th>\n",
       "    </tr>\n",
       "  </thead>\n",
       "  <tbody>\n",
       "    <tr>\n",
       "      <th>0</th>\n",
       "      <td>00063640.wav</td>\n",
       "      <td>None</td>\n",
       "      <td>Ignored</td>\n",
       "      <td>88926</td>\n",
       "      <td>Attribution</td>\n",
       "      <td>00063640.jpg</td>\n",
       "    </tr>\n",
       "    <tr>\n",
       "      <th>1</th>\n",
       "      <td>0013a1db.wav</td>\n",
       "      <td>None</td>\n",
       "      <td>Ignored</td>\n",
       "      <td>373335</td>\n",
       "      <td>Creative Commons 0</td>\n",
       "      <td>0013a1db.jpg</td>\n",
       "    </tr>\n",
       "    <tr>\n",
       "      <th>2</th>\n",
       "      <td>002bb878.wav</td>\n",
       "      <td>None</td>\n",
       "      <td>Ignored</td>\n",
       "      <td>189611</td>\n",
       "      <td>Attribution</td>\n",
       "      <td>002bb878.jpg</td>\n",
       "    </tr>\n",
       "    <tr>\n",
       "      <th>3</th>\n",
       "      <td>002d392d.wav</td>\n",
       "      <td>None</td>\n",
       "      <td>Ignored</td>\n",
       "      <td>35939</td>\n",
       "      <td>Attribution</td>\n",
       "      <td>002d392d.jpg</td>\n",
       "    </tr>\n",
       "    <tr>\n",
       "      <th>4</th>\n",
       "      <td>00326aa9.wav</td>\n",
       "      <td>Oboe</td>\n",
       "      <td>Private</td>\n",
       "      <td>355125</td>\n",
       "      <td>Attribution</td>\n",
       "      <td>00326aa9.jpg</td>\n",
       "    </tr>\n",
       "  </tbody>\n",
       "</table>\n",
       "</div>"
      ],
      "text/plain": [
       "          fname label    usage  freesound_id             license    image_file\n",
       "0  00063640.wav  None  Ignored         88926         Attribution  00063640.jpg\n",
       "1  0013a1db.wav  None  Ignored        373335  Creative Commons 0  0013a1db.jpg\n",
       "2  002bb878.wav  None  Ignored        189611         Attribution  002bb878.jpg\n",
       "3  002d392d.wav  None  Ignored         35939         Attribution  002d392d.jpg\n",
       "4  00326aa9.wav  Oboe  Private        355125         Attribution  00326aa9.jpg"
      ]
     },
     "execution_count": 3,
     "metadata": {},
     "output_type": "execute_result"
    }
   ],
   "source": [
    "test = pd.read_csv('../input/freesound-audio-tagging/test_post_competition.csv')\n",
    "test['image_file'] = test.fname.apply(lambda x : x[:-4] + '.jpg')\n",
    "print(test.shape)\n",
    "test.head()"
   ]
  },
  {
   "cell_type": "code",
   "execution_count": 4,
   "metadata": {
    "execution": {
     "iopub.execute_input": "2021-05-02T03:51:39.097077Z",
     "iopub.status.busy": "2021-05-02T03:51:39.096343Z",
     "iopub.status.idle": "2021-05-02T03:51:39.129676Z",
     "shell.execute_reply": "2021-05-02T03:51:39.130368Z"
    },
    "papermill": {
     "duration": 0.058323,
     "end_time": "2021-05-02T03:51:39.130592",
     "exception": false,
     "start_time": "2021-05-02T03:51:39.072269",
     "status": "completed"
    },
    "tags": []
   },
   "outputs": [
    {
     "name": "stdout",
     "output_type": "stream",
     "text": [
      "(1600, 6)\n"
     ]
    },
    {
     "data": {
      "text/html": [
       "<div>\n",
       "<style scoped>\n",
       "    .dataframe tbody tr th:only-of-type {\n",
       "        vertical-align: middle;\n",
       "    }\n",
       "\n",
       "    .dataframe tbody tr th {\n",
       "        vertical-align: top;\n",
       "    }\n",
       "\n",
       "    .dataframe thead th {\n",
       "        text-align: right;\n",
       "    }\n",
       "</style>\n",
       "<table border=\"1\" class=\"dataframe\">\n",
       "  <thead>\n",
       "    <tr style=\"text-align: right;\">\n",
       "      <th></th>\n",
       "      <th>fname</th>\n",
       "      <th>label</th>\n",
       "      <th>usage</th>\n",
       "      <th>freesound_id</th>\n",
       "      <th>license</th>\n",
       "      <th>image_file</th>\n",
       "    </tr>\n",
       "  </thead>\n",
       "  <tbody>\n",
       "    <tr>\n",
       "      <th>4</th>\n",
       "      <td>00326aa9.wav</td>\n",
       "      <td>Oboe</td>\n",
       "      <td>Private</td>\n",
       "      <td>355125</td>\n",
       "      <td>Attribution</td>\n",
       "      <td>00326aa9.jpg</td>\n",
       "    </tr>\n",
       "    <tr>\n",
       "      <th>5</th>\n",
       "      <td>0038a046.wav</td>\n",
       "      <td>Bass_drum</td>\n",
       "      <td>Private</td>\n",
       "      <td>90621</td>\n",
       "      <td>Creative Commons 0</td>\n",
       "      <td>0038a046.jpg</td>\n",
       "    </tr>\n",
       "    <tr>\n",
       "      <th>8</th>\n",
       "      <td>007759c4.wav</td>\n",
       "      <td>Saxophone</td>\n",
       "      <td>Private</td>\n",
       "      <td>13406</td>\n",
       "      <td>Creative Commons 0</td>\n",
       "      <td>007759c4.jpg</td>\n",
       "    </tr>\n",
       "    <tr>\n",
       "      <th>9</th>\n",
       "      <td>008afd93.wav</td>\n",
       "      <td>Saxophone</td>\n",
       "      <td>Private</td>\n",
       "      <td>358962</td>\n",
       "      <td>Attribution</td>\n",
       "      <td>008afd93.jpg</td>\n",
       "    </tr>\n",
       "    <tr>\n",
       "      <th>12</th>\n",
       "      <td>00ae03f6.wav</td>\n",
       "      <td>Chime</td>\n",
       "      <td>Private</td>\n",
       "      <td>78203</td>\n",
       "      <td>Attribution</td>\n",
       "      <td>00ae03f6.jpg</td>\n",
       "    </tr>\n",
       "  </tbody>\n",
       "</table>\n",
       "</div>"
      ],
      "text/plain": [
       "           fname      label    usage  freesound_id             license  \\\n",
       "4   00326aa9.wav       Oboe  Private        355125         Attribution   \n",
       "5   0038a046.wav  Bass_drum  Private         90621  Creative Commons 0   \n",
       "8   007759c4.wav  Saxophone  Private         13406  Creative Commons 0   \n",
       "9   008afd93.wav  Saxophone  Private        358962         Attribution   \n",
       "12  00ae03f6.wav      Chime  Private         78203         Attribution   \n",
       "\n",
       "      image_file  \n",
       "4   00326aa9.jpg  \n",
       "5   0038a046.jpg  \n",
       "8   007759c4.jpg  \n",
       "9   008afd93.jpg  \n",
       "12  00ae03f6.jpg  "
      ]
     },
     "execution_count": 4,
     "metadata": {},
     "output_type": "execute_result"
    }
   ],
   "source": [
    "test_public = test.query('label != \"None\"').copy()\n",
    "print(test_public.shape)\n",
    "test_public.head()"
   ]
  },
  {
   "cell_type": "markdown",
   "metadata": {
    "papermill": {
     "duration": 0.018993,
     "end_time": "2021-05-02T03:51:39.169629",
     "exception": false,
     "start_time": "2021-05-02T03:51:39.150636",
     "status": "completed"
    },
    "tags": []
   },
   "source": [
    "## Data Generator"
   ]
  },
  {
   "cell_type": "code",
   "execution_count": 5,
   "metadata": {
    "execution": {
     "iopub.execute_input": "2021-05-02T03:51:39.212641Z",
     "iopub.status.busy": "2021-05-02T03:51:39.211762Z",
     "iopub.status.idle": "2021-05-02T03:51:39.547221Z",
     "shell.execute_reply": "2021-05-02T03:51:39.546563Z"
    },
    "papermill": {
     "duration": 0.358805,
     "end_time": "2021-05-02T03:51:39.547370",
     "exception": false,
     "start_time": "2021-05-02T03:51:39.188565",
     "status": "completed"
    },
    "tags": []
   },
   "outputs": [
    {
     "name": "stdout",
     "output_type": "stream",
     "text": [
      "1600\n",
      "9400\n"
     ]
    }
   ],
   "source": [
    "test_public_path = '../input/freesound-2018-100dpi/labeled_test_images'\n",
    "test_path = '../input/freesound-2018-100dpi/full_test_images'\n",
    "\n",
    "print(len(os.listdir(test_public_path)))\n",
    "print(len(os.listdir(test_path)))"
   ]
  },
  {
   "cell_type": "code",
   "execution_count": 6,
   "metadata": {
    "execution": {
     "iopub.execute_input": "2021-05-02T03:51:39.601235Z",
     "iopub.status.busy": "2021-05-02T03:51:39.600355Z",
     "iopub.status.idle": "2021-05-02T03:51:47.584215Z",
     "shell.execute_reply": "2021-05-02T03:51:47.583647Z"
    },
    "papermill": {
     "duration": 8.017286,
     "end_time": "2021-05-02T03:51:47.584356",
     "exception": false,
     "start_time": "2021-05-02T03:51:39.567070",
     "status": "completed"
    },
    "tags": []
   },
   "outputs": [
    {
     "name": "stdout",
     "output_type": "stream",
     "text": [
      "Found 1600 validated image filenames belonging to 41 classes.\n",
      "Found 9400 validated image filenames.\n"
     ]
    }
   ],
   "source": [
    "bs = 64\n",
    "target_size = (50, 75)\n",
    "\n",
    "public_test_datagen = ImageDataGenerator(rescale=1/255)\n",
    "test_datagen = ImageDataGenerator(rescale=1/255)\n",
    "\n",
    "public_test_gen = public_test_datagen.flow_from_dataframe(\n",
    "    dataframe = test_public,\n",
    "    directory = test_public_path,\n",
    "    x_col = 'image_file',\n",
    "    y_col = 'label',\n",
    "    batch_size = bs,\n",
    "    seed = 1,\n",
    "    shuffle = False,\n",
    "    class_mode = 'categorical',\n",
    "    target_size = target_size\n",
    ")\n",
    "\n",
    "test_gen = test_datagen.flow_from_dataframe(\n",
    "    dataframe = test,\n",
    "    directory = test_path,\n",
    "    x_col = 'image_file',\n",
    "    y_col = None,\n",
    "    batch_size = bs,\n",
    "    seed = 1,\n",
    "    shuffle = False,\n",
    "    class_mode = None,\n",
    "    target_size = target_size\n",
    ")"
   ]
  },
  {
   "cell_type": "code",
   "execution_count": 7,
   "metadata": {
    "execution": {
     "iopub.execute_input": "2021-05-02T03:51:47.631294Z",
     "iopub.status.busy": "2021-05-02T03:51:47.630695Z",
     "iopub.status.idle": "2021-05-02T03:51:47.635069Z",
     "shell.execute_reply": "2021-05-02T03:51:47.633861Z"
    },
    "papermill": {
     "duration": 0.029697,
     "end_time": "2021-05-02T03:51:47.635304",
     "exception": false,
     "start_time": "2021-05-02T03:51:47.605607",
     "status": "completed"
    },
    "tags": []
   },
   "outputs": [
    {
     "name": "stdout",
     "output_type": "stream",
     "text": [
      "147\n",
      "25\n"
     ]
    }
   ],
   "source": [
    "test_batches = len(test_gen)\n",
    "public_test_batches = len(public_test_gen)\n",
    "\n",
    "print(test_batches)\n",
    "print(public_test_batches)"
   ]
  },
  {
   "cell_type": "code",
   "execution_count": 8,
   "metadata": {
    "execution": {
     "iopub.execute_input": "2021-05-02T03:51:47.683636Z",
     "iopub.status.busy": "2021-05-02T03:51:47.682797Z",
     "iopub.status.idle": "2021-05-02T03:51:47.685921Z",
     "shell.execute_reply": "2021-05-02T03:51:47.686401Z"
    },
    "papermill": {
     "duration": 0.029666,
     "end_time": "2021-05-02T03:51:47.686581",
     "exception": false,
     "start_time": "2021-05-02T03:51:47.656915",
     "status": "completed"
    },
    "tags": []
   },
   "outputs": [
    {
     "name": "stdout",
     "output_type": "stream",
     "text": [
      "{'Acoustic_guitar': 0, 'Applause': 1, 'Bark': 2, 'Bass_drum': 3, 'Burping_or_eructation': 4, 'Bus': 5, 'Cello': 6, 'Chime': 7, 'Clarinet': 8, 'Computer_keyboard': 9, 'Cough': 10, 'Cowbell': 11, 'Double_bass': 12, 'Drawer_open_or_close': 13, 'Electric_piano': 14, 'Fart': 15, 'Finger_snapping': 16, 'Fireworks': 17, 'Flute': 18, 'Glockenspiel': 19, 'Gong': 20, 'Gunshot_or_gunfire': 21, 'Harmonica': 22, 'Hi-hat': 23, 'Keys_jangling': 24, 'Knock': 25, 'Laughter': 26, 'Meow': 27, 'Microwave_oven': 28, 'Oboe': 29, 'Saxophone': 30, 'Scissors': 31, 'Shatter': 32, 'Snare_drum': 33, 'Squeak': 34, 'Tambourine': 35, 'Tearing': 36, 'Telephone': 37, 'Trumpet': 38, 'Violin_or_fiddle': 39, 'Writing': 40}\n"
     ]
    }
   ],
   "source": [
    "label_to_index = public_test_gen.class_indices\n",
    "index_to_label = {v:k for k,v in label_to_index.items()}\n",
    "print(label_to_index)"
   ]
  },
  {
   "cell_type": "markdown",
   "metadata": {
    "papermill": {
     "duration": 0.020918,
     "end_time": "2021-05-02T03:51:47.728840",
     "exception": false,
     "start_time": "2021-05-02T03:51:47.707922",
     "status": "completed"
    },
    "tags": []
   },
   "source": [
    "## Load and summarize our best model"
   ]
  },
  {
   "cell_type": "code",
   "execution_count": 9,
   "metadata": {
    "_cell_guid": "b1076dfc-b9ad-4769-8c92-a6c4dae69d19",
    "_uuid": "8f2839f25d086af736a60e9eeb907d3b93b6e0e5",
    "execution": {
     "iopub.execute_input": "2021-05-02T03:51:47.776629Z",
     "iopub.status.busy": "2021-05-02T03:51:47.775781Z",
     "iopub.status.idle": "2021-05-02T03:51:53.760482Z",
     "shell.execute_reply": "2021-05-02T03:51:53.759819Z"
    },
    "papermill": {
     "duration": 6.010113,
     "end_time": "2021-05-02T03:51:53.760642",
     "exception": false,
     "start_time": "2021-05-02T03:51:47.750529",
     "status": "completed"
    },
    "tags": []
   },
   "outputs": [
    {
     "name": "stdout",
     "output_type": "stream",
     "text": [
      "Model: \"sequential_7\"\n",
      "_________________________________________________________________\n",
      "Layer (type)                 Output Shape              Param #   \n",
      "=================================================================\n",
      "conv2d_28 (Conv2D)           (None, 50, 75, 128)       3584      \n",
      "_________________________________________________________________\n",
      "conv2d_29 (Conv2D)           (None, 50, 75, 128)       147584    \n",
      "_________________________________________________________________\n",
      "max_pooling2d_14 (MaxPooling (None, 25, 37, 128)       0         \n",
      "_________________________________________________________________\n",
      "dropout_28 (Dropout)         (None, 25, 37, 128)       0         \n",
      "_________________________________________________________________\n",
      "batch_normalization_28 (Batc (None, 25, 37, 128)       512       \n",
      "_________________________________________________________________\n",
      "conv2d_30 (Conv2D)           (None, 25, 37, 256)       295168    \n",
      "_________________________________________________________________\n",
      "conv2d_31 (Conv2D)           (None, 25, 37, 256)       590080    \n",
      "_________________________________________________________________\n",
      "max_pooling2d_15 (MaxPooling (None, 12, 18, 256)       0         \n",
      "_________________________________________________________________\n",
      "dropout_29 (Dropout)         (None, 12, 18, 256)       0         \n",
      "_________________________________________________________________\n",
      "batch_normalization_29 (Batc (None, 12, 18, 256)       1024      \n",
      "_________________________________________________________________\n",
      "flatten_7 (Flatten)          (None, 55296)             0         \n",
      "_________________________________________________________________\n",
      "dense_21 (Dense)             (None, 512)               28312064  \n",
      "_________________________________________________________________\n",
      "dropout_30 (Dropout)         (None, 512)               0         \n",
      "_________________________________________________________________\n",
      "batch_normalization_30 (Batc (None, 512)               2048      \n",
      "_________________________________________________________________\n",
      "dense_22 (Dense)             (None, 256)               131328    \n",
      "_________________________________________________________________\n",
      "dropout_31 (Dropout)         (None, 256)               0         \n",
      "_________________________________________________________________\n",
      "batch_normalization_31 (Batc (None, 256)               1024      \n",
      "_________________________________________________________________\n",
      "dense_23 (Dense)             (None, 41)                10537     \n",
      "=================================================================\n",
      "Total params: 29,494,953\n",
      "Trainable params: 29,492,649\n",
      "Non-trainable params: 2,304\n",
      "_________________________________________________________________\n"
     ]
    }
   ],
   "source": [
    "new_model = keras.models.load_model('../input/models/freesound_model_v03_50.h5')\n",
    "new_model.summary()"
   ]
  },
  {
   "cell_type": "markdown",
   "metadata": {
    "papermill": {
     "duration": 0.021941,
     "end_time": "2021-05-02T03:51:53.804650",
     "exception": false,
     "start_time": "2021-05-02T03:51:53.782709",
     "status": "completed"
    },
    "tags": []
   },
   "source": [
    "## Make predictions"
   ]
  },
  {
   "cell_type": "code",
   "execution_count": 10,
   "metadata": {
    "execution": {
     "iopub.execute_input": "2021-05-02T03:51:53.855223Z",
     "iopub.status.busy": "2021-05-02T03:51:53.854527Z",
     "iopub.status.idle": "2021-05-02T03:52:24.068034Z",
     "shell.execute_reply": "2021-05-02T03:52:24.068537Z"
    },
    "papermill": {
     "duration": 30.24188,
     "end_time": "2021-05-02T03:52:24.068722",
     "exception": false,
     "start_time": "2021-05-02T03:51:53.826842",
     "status": "completed"
    },
    "tags": []
   },
   "outputs": [
    {
     "name": "stdout",
     "output_type": "stream",
     "text": [
      "(1600, 41)\n",
      "CPU times: user 1min 44s, sys: 8.14 s, total: 1min 52s\n",
      "Wall time: 30.2 s\n"
     ]
    }
   ],
   "source": [
    "%%time \n",
    "\n",
    "valid_probs = new_model.predict(public_test_gen, steps=public_test_batches)\n",
    "\n",
    "print(valid_probs.shape)"
   ]
  },
  {
   "cell_type": "markdown",
   "metadata": {
    "papermill": {
     "duration": 0.022865,
     "end_time": "2021-05-02T03:52:24.122012",
     "exception": false,
     "start_time": "2021-05-02T03:52:24.099147",
     "status": "completed"
    },
    "tags": []
   },
   "source": [
    "## Mean Average Precision\n",
    "Mean Average Precision (MAP) is the metric used in this kaggle competition for assessing submissions. \n",
    "It accepts three ranked predicted labels for each audio clip. Full credit is awarded if the correct label is listed first, while lesser credit is awarded where the correct label is the second or third highest probability. \n",
    "### Define function to obtain top 3 highest class probabilities"
   ]
  },
  {
   "cell_type": "code",
   "execution_count": 11,
   "metadata": {
    "execution": {
     "iopub.execute_input": "2021-05-02T03:52:24.171977Z",
     "iopub.status.busy": "2021-05-02T03:52:24.171047Z",
     "iopub.status.idle": "2021-05-02T03:52:24.179462Z",
     "shell.execute_reply": "2021-05-02T03:52:24.179970Z"
    },
    "papermill": {
     "duration": 0.035121,
     "end_time": "2021-05-02T03:52:24.180124",
     "exception": false,
     "start_time": "2021-05-02T03:52:24.145003",
     "status": "completed"
    },
    "tags": []
   },
   "outputs": [
    {
     "name": "stdout",
     "output_type": "stream",
     "text": [
      "[0.921 0.022 0.01 ]\n",
      "[29  8 30]\n"
     ]
    }
   ],
   "source": [
    "def get_top_3(p):\n",
    "    top_classes = np.argpartition(p, -3)[-3:]                  # Gives top 3 classes in increasing order\n",
    "    top_classes = top_classes[np.argsort(p[top_classes])]      # Sorts in increasing order\n",
    "    top_classes = np.flip(top_classes)                         # Flips the order.\n",
    "\n",
    "    top_probs = p[top_classes]              \n",
    "    \n",
    "    return top_probs, top_classes\n",
    "\n",
    "t3p, t3c = get_top_3(valid_probs[0,:])\n",
    "print(t3p.round(3))\n",
    "print(t3c)"
   ]
  },
  {
   "cell_type": "markdown",
   "metadata": {
    "papermill": {
     "duration": 0.023028,
     "end_time": "2021-05-02T03:52:24.228283",
     "exception": false,
     "start_time": "2021-05-02T03:52:24.205255",
     "status": "completed"
    },
    "tags": []
   },
   "source": [
    "### Visualize"
   ]
  },
  {
   "cell_type": "code",
   "execution_count": 12,
   "metadata": {
    "execution": {
     "iopub.execute_input": "2021-05-02T03:52:24.278529Z",
     "iopub.status.busy": "2021-05-02T03:52:24.277922Z",
     "iopub.status.idle": "2021-05-02T03:52:26.029684Z",
     "shell.execute_reply": "2021-05-02T03:52:26.029060Z"
    },
    "papermill": {
     "duration": 1.777591,
     "end_time": "2021-05-02T03:52:26.029835",
     "exception": false,
     "start_time": "2021-05-02T03:52:24.252244",
     "status": "completed"
    },
    "tags": []
   },
   "outputs": [
    {
     "data": {
      "image/png": "[encoded data removed]",
      "text/plain": [
       "<Figure size 720x432 with 3 Axes>"
      ]
     },
     "metadata": {
      "needs_background": "light"
     },
     "output_type": "display_data"
    }
   ],
   "source": [
    "N_train = valid_probs.shape[0]\n",
    "top_3_probs = np.zeros(shape=(N_train, 3))\n",
    "\n",
    "for i in range(N_train):    \n",
    "    top_probs, top_classes = get_top_3(valid_probs[i, :])\n",
    "    top_3_probs[i,:] = top_probs\n",
    "\n",
    "plt.figure(figsize=[10,6])\n",
    "for i in range(3):\n",
    "    plt.subplot(3,1,i+1)\n",
    "    plt.hist(top_3_probs[:,i], color='lightsalmon', edgecolor='k', bins = np.arange(0, 1.01, 0.025))\n",
    "    plt.title(f'Top {i+1} Probabilities')\n",
    "    plt.yscale('log')\n",
    "plt.tight_layout()\n",
    "plt.show()"
   ]
  },
  {
   "cell_type": "code",
   "execution_count": 13,
   "metadata": {
    "execution": {
     "iopub.execute_input": "2021-05-02T03:52:26.089267Z",
     "iopub.status.busy": "2021-05-02T03:52:26.088083Z",
     "iopub.status.idle": "2021-05-02T03:52:26.091650Z",
     "shell.execute_reply": "2021-05-02T03:52:26.092127Z"
    },
    "papermill": {
     "duration": 0.035816,
     "end_time": "2021-05-02T03:52:26.092316",
     "exception": false,
     "start_time": "2021-05-02T03:52:26.056500",
     "status": "completed"
    },
    "tags": []
   },
   "outputs": [
    {
     "name": "stdout",
     "output_type": "stream",
     "text": [
      "[29  3 30 ... 31 11  8]\n"
     ]
    }
   ],
   "source": [
    "enc_labels = test_public.label.apply(lambda x : label_to_index[x]).values\n",
    "print(enc_labels)"
   ]
  },
  {
   "cell_type": "code",
   "execution_count": 14,
   "metadata": {
    "execution": {
     "iopub.execute_input": "2021-05-02T03:52:26.151726Z",
     "iopub.status.busy": "2021-05-02T03:52:26.150712Z",
     "iopub.status.idle": "2021-05-02T03:52:26.211325Z",
     "shell.execute_reply": "2021-05-02T03:52:26.211837Z"
    },
    "papermill": {
     "duration": 0.094737,
     "end_time": "2021-05-02T03:52:26.212005",
     "exception": false,
     "start_time": "2021-05-02T03:52:26.117268",
     "status": "completed"
    },
    "tags": []
   },
   "outputs": [
    {
     "data": {
      "text/plain": [
       "0.705"
      ]
     },
     "execution_count": 14,
     "metadata": {},
     "output_type": "execute_result"
    }
   ],
   "source": [
    "def MAP3(probs, labels, t):\n",
    "    N = len(labels)\n",
    "    top_3_probs = np.zeros(shape=(N, 3))\n",
    "    sum_ap3 = 0\n",
    "\n",
    "    for i in range(N):\n",
    "        top_probs, top_classes = get_top_3(probs[i, :])\n",
    "\n",
    "        # Keep Probs Over Threshold\n",
    "        sel = top_probs > t\n",
    "        sel[0] = True                               # Always keep first pred\n",
    "\n",
    "        top_classes = top_classes[sel]\n",
    "\n",
    "        K = len(top_classes)   # Number of classes to submit\n",
    "        if K == 3:\n",
    "            scores = np.array([11/18, 5/18, 2/18])\n",
    "        elif K == 2:\n",
    "            scores = np.array([3/4, 1/4])\n",
    "        else:\n",
    "            scores = np.array([1])\n",
    "\n",
    "        sel = (top_classes == labels[i])\n",
    "\n",
    "        #print(f'{str(top_classes):<20}{labels[i]:<6}{sel}')\n",
    "\n",
    "        ap3 = np.sum(scores * sel)\n",
    "\n",
    "        sum_ap3 += ap3\n",
    "\n",
    "    map3 = sum_ap3 / len(labels)\n",
    "\n",
    "    return map3\n",
    "\n",
    "MAP3(valid_probs, enc_labels, 0.5)"
   ]
  },
  {
   "cell_type": "markdown",
   "metadata": {
    "papermill": {
     "duration": 0.024273,
     "end_time": "2021-05-02T03:52:26.261026",
     "exception": false,
     "start_time": "2021-05-02T03:52:26.236753",
     "status": "completed"
    },
    "tags": []
   },
   "source": [
    "## Tune Threshold"
   ]
  },
  {
   "cell_type": "code",
   "execution_count": 15,
   "metadata": {
    "execution": {
     "iopub.execute_input": "2021-05-02T03:52:26.318352Z",
     "iopub.status.busy": "2021-05-02T03:52:26.315957Z",
     "iopub.status.idle": "2021-05-02T03:52:27.570605Z",
     "shell.execute_reply": "2021-05-02T03:52:27.569913Z"
    },
    "papermill": {
     "duration": 1.284986,
     "end_time": "2021-05-02T03:52:27.570987",
     "exception": false,
     "start_time": "2021-05-02T03:52:26.286001",
     "status": "completed"
    },
    "tags": []
   },
   "outputs": [
    {
     "data": {
      "image/png": "[encoded data removed]",
      "text/plain": [
       "<Figure size 432x288 with 1 Axes>"
      ]
     },
     "metadata": {
      "needs_background": "light"
     },
     "output_type": "display_data"
    }
   ],
   "source": [
    "MAP3_scores = []\n",
    "\n",
    "t_array = np.arange(0.05, 1.01, 0.05) \n",
    "\n",
    "for t in t_array:\n",
    "    MAP3_scores.append(MAP3(valid_probs, enc_labels, t))\n",
    "    \n",
    "plt.plot(t_array, MAP3_scores)\n",
    "plt.scatter(t_array, MAP3_scores)\n",
    "plt.show()"
   ]
  },
  {
   "cell_type": "markdown",
   "metadata": {
    "papermill": {
     "duration": 0.026493,
     "end_time": "2021-05-02T03:52:27.625826",
     "exception": false,
     "start_time": "2021-05-02T03:52:27.599333",
     "status": "completed"
    },
    "tags": []
   },
   "source": [
    "## Make predictions on the test set and create submission file"
   ]
  },
  {
   "cell_type": "code",
   "execution_count": 16,
   "metadata": {
    "execution": {
     "iopub.execute_input": "2021-05-02T03:52:27.685220Z",
     "iopub.status.busy": "2021-05-02T03:52:27.684433Z",
     "iopub.status.idle": "2021-05-02T03:55:20.168340Z",
     "shell.execute_reply": "2021-05-02T03:55:20.168881Z"
    },
    "papermill": {
     "duration": 172.516461,
     "end_time": "2021-05-02T03:55:20.169080",
     "exception": false,
     "start_time": "2021-05-02T03:52:27.652619",
     "status": "completed"
    },
    "tags": []
   },
   "outputs": [
    {
     "name": "stdout",
     "output_type": "stream",
     "text": [
      "(9400, 41)\n",
      "CPU times: user 10min 14s, sys: 46.6 s, total: 11min\n",
      "Wall time: 2min 52s\n"
     ]
    }
   ],
   "source": [
    "%%time \n",
    "\n",
    "test_probs = new_model.predict(test_gen, steps=test_batches)\n",
    "\n",
    "print(test_probs.shape)"
   ]
  },
  {
   "cell_type": "code",
   "execution_count": 17,
   "metadata": {
    "execution": {
     "iopub.execute_input": "2021-05-02T03:55:20.225784Z",
     "iopub.status.busy": "2021-05-02T03:55:20.225033Z",
     "iopub.status.idle": "2021-05-02T03:55:20.251416Z",
     "shell.execute_reply": "2021-05-02T03:55:20.250853Z"
    },
    "papermill": {
     "duration": 0.056697,
     "end_time": "2021-05-02T03:55:20.251551",
     "exception": false,
     "start_time": "2021-05-02T03:55:20.194854",
     "status": "completed"
    },
    "tags": []
   },
   "outputs": [
    {
     "data": {
      "text/html": [
       "<div>\n",
       "<style scoped>\n",
       "    .dataframe tbody tr th:only-of-type {\n",
       "        vertical-align: middle;\n",
       "    }\n",
       "\n",
       "    .dataframe tbody tr th {\n",
       "        vertical-align: top;\n",
       "    }\n",
       "\n",
       "    .dataframe thead th {\n",
       "        text-align: right;\n",
       "    }\n",
       "</style>\n",
       "<table border=\"1\" class=\"dataframe\">\n",
       "  <thead>\n",
       "    <tr style=\"text-align: right;\">\n",
       "      <th></th>\n",
       "      <th>fname</th>\n",
       "      <th>label</th>\n",
       "    </tr>\n",
       "  </thead>\n",
       "  <tbody>\n",
       "    <tr>\n",
       "      <th>0</th>\n",
       "      <td>00063640.wav</td>\n",
       "      <td>Laughter Hi-Hat Flute</td>\n",
       "    </tr>\n",
       "    <tr>\n",
       "      <th>1</th>\n",
       "      <td>0013a1db.wav</td>\n",
       "      <td>Laughter Hi-Hat Flute</td>\n",
       "    </tr>\n",
       "    <tr>\n",
       "      <th>2</th>\n",
       "      <td>002bb878.wav</td>\n",
       "      <td>Laughter Hi-Hat Flute</td>\n",
       "    </tr>\n",
       "    <tr>\n",
       "      <th>3</th>\n",
       "      <td>002d392d.wav</td>\n",
       "      <td>Laughter Hi-Hat Flute</td>\n",
       "    </tr>\n",
       "    <tr>\n",
       "      <th>4</th>\n",
       "      <td>00326aa9.wav</td>\n",
       "      <td>Laughter Hi-Hat Flute</td>\n",
       "    </tr>\n",
       "  </tbody>\n",
       "</table>\n",
       "</div>"
      ],
      "text/plain": [
       "          fname                  label\n",
       "0  00063640.wav  Laughter Hi-Hat Flute\n",
       "1  0013a1db.wav  Laughter Hi-Hat Flute\n",
       "2  002bb878.wav  Laughter Hi-Hat Flute\n",
       "3  002d392d.wav  Laughter Hi-Hat Flute\n",
       "4  00326aa9.wav  Laughter Hi-Hat Flute"
      ]
     },
     "execution_count": 17,
     "metadata": {},
     "output_type": "execute_result"
    }
   ],
   "source": [
    "submission = pd.read_csv('../input/freesound-audio-tagging/sample_submission.csv')\n",
    "submission.head()"
   ]
  },
  {
   "cell_type": "code",
   "execution_count": 18,
   "metadata": {
    "execution": {
     "iopub.execute_input": "2021-05-02T03:55:20.307265Z",
     "iopub.status.busy": "2021-05-02T03:55:20.306335Z",
     "iopub.status.idle": "2021-05-02T03:55:20.315972Z",
     "shell.execute_reply": "2021-05-02T03:55:20.316502Z"
    },
    "papermill": {
     "duration": 0.039057,
     "end_time": "2021-05-02T03:55:20.316737",
     "exception": false,
     "start_time": "2021-05-02T03:55:20.277680",
     "status": "completed"
    },
    "tags": []
   },
   "outputs": [
    {
     "name": "stdout",
     "output_type": "stream",
     "text": [
      "[[5.1800259e-03 3.3351835e-03 6.3604005e-03 1.4245233e-02 3.4070753e-03]\n",
      " [4.9991142e-03 1.9124509e-03 1.2886375e-02 1.1377556e-03 2.4223579e-03]\n",
      " [3.2885843e-03 7.2340164e-03 8.9811953e-03 2.0509733e-01 9.9427847e-04]\n",
      " [3.4444895e-02 3.3509720e-04 1.8027582e-03 4.7882959e-01 4.3099633e-04]\n",
      " [1.1266179e-03 4.3234593e-04 1.1231715e-03 5.8523746e-04 5.4613221e-04]]\n"
     ]
    }
   ],
   "source": [
    "np.sum(submission.fname == test.fname)\n",
    "print(test_probs[:5, :5])"
   ]
  },
  {
   "cell_type": "code",
   "execution_count": 19,
   "metadata": {
    "execution": {
     "iopub.execute_input": "2021-05-02T03:55:20.388098Z",
     "iopub.status.busy": "2021-05-02T03:55:20.385877Z",
     "iopub.status.idle": "2021-05-02T03:55:21.455284Z",
     "shell.execute_reply": "2021-05-02T03:55:21.455794Z"
    },
    "papermill": {
     "duration": 1.110042,
     "end_time": "2021-05-02T03:55:21.455966",
     "exception": false,
     "start_time": "2021-05-02T03:55:20.345924",
     "status": "completed"
    },
    "tags": []
   },
   "outputs": [
    {
     "data": {
      "text/html": [
       "<div>\n",
       "<style scoped>\n",
       "    .dataframe tbody tr th:only-of-type {\n",
       "        vertical-align: middle;\n",
       "    }\n",
       "\n",
       "    .dataframe tbody tr th {\n",
       "        vertical-align: top;\n",
       "    }\n",
       "\n",
       "    .dataframe thead th {\n",
       "        text-align: right;\n",
       "    }\n",
       "</style>\n",
       "<table border=\"1\" class=\"dataframe\">\n",
       "  <thead>\n",
       "    <tr style=\"text-align: right;\">\n",
       "      <th></th>\n",
       "      <th>fname</th>\n",
       "      <th>label</th>\n",
       "    </tr>\n",
       "  </thead>\n",
       "  <tbody>\n",
       "    <tr>\n",
       "      <th>0</th>\n",
       "      <td>00063640.wav</td>\n",
       "      <td>Shatter</td>\n",
       "    </tr>\n",
       "    <tr>\n",
       "      <th>1</th>\n",
       "      <td>0013a1db.wav</td>\n",
       "      <td>Flute</td>\n",
       "    </tr>\n",
       "    <tr>\n",
       "      <th>2</th>\n",
       "      <td>002bb878.wav</td>\n",
       "      <td>Fireworks Bass_drum</td>\n",
       "    </tr>\n",
       "    <tr>\n",
       "      <th>3</th>\n",
       "      <td>002d392d.wav</td>\n",
       "      <td>Bass_drum Double_bass</td>\n",
       "    </tr>\n",
       "    <tr>\n",
       "      <th>4</th>\n",
       "      <td>00326aa9.wav</td>\n",
       "      <td>Oboe</td>\n",
       "    </tr>\n",
       "    <tr>\n",
       "      <th>5</th>\n",
       "      <td>0038a046.wav</td>\n",
       "      <td>Bass_drum</td>\n",
       "    </tr>\n",
       "    <tr>\n",
       "      <th>6</th>\n",
       "      <td>003995fa.wav</td>\n",
       "      <td>Squeak</td>\n",
       "    </tr>\n",
       "    <tr>\n",
       "      <th>7</th>\n",
       "      <td>005ae625.wav</td>\n",
       "      <td>Acoustic_guitar</td>\n",
       "    </tr>\n",
       "    <tr>\n",
       "      <th>8</th>\n",
       "      <td>007759c4.wav</td>\n",
       "      <td>Flute</td>\n",
       "    </tr>\n",
       "    <tr>\n",
       "      <th>9</th>\n",
       "      <td>008afd93.wav</td>\n",
       "      <td>Saxophone</td>\n",
       "    </tr>\n",
       "    <tr>\n",
       "      <th>10</th>\n",
       "      <td>00a161c0.wav</td>\n",
       "      <td>Cello</td>\n",
       "    </tr>\n",
       "    <tr>\n",
       "      <th>11</th>\n",
       "      <td>00a7a2f6.wav</td>\n",
       "      <td>Clarinet</td>\n",
       "    </tr>\n",
       "    <tr>\n",
       "      <th>12</th>\n",
       "      <td>00ae03f6.wav</td>\n",
       "      <td>Chime</td>\n",
       "    </tr>\n",
       "    <tr>\n",
       "      <th>13</th>\n",
       "      <td>00b2404e.wav</td>\n",
       "      <td>Cello</td>\n",
       "    </tr>\n",
       "    <tr>\n",
       "      <th>14</th>\n",
       "      <td>00beb030.wav</td>\n",
       "      <td>Clarinet</td>\n",
       "    </tr>\n",
       "    <tr>\n",
       "      <th>15</th>\n",
       "      <td>00c4d5b8.wav</td>\n",
       "      <td>Acoustic_guitar</td>\n",
       "    </tr>\n",
       "    <tr>\n",
       "      <th>16</th>\n",
       "      <td>00c92c05.wav</td>\n",
       "      <td>Acoustic_guitar Gong</td>\n",
       "    </tr>\n",
       "    <tr>\n",
       "      <th>17</th>\n",
       "      <td>00ccf065.wav</td>\n",
       "      <td>Bass_drum</td>\n",
       "    </tr>\n",
       "    <tr>\n",
       "      <th>18</th>\n",
       "      <td>00d0ab77.wav</td>\n",
       "      <td>Clarinet</td>\n",
       "    </tr>\n",
       "    <tr>\n",
       "      <th>19</th>\n",
       "      <td>00dffe3a.wav</td>\n",
       "      <td>Bass_drum</td>\n",
       "    </tr>\n",
       "  </tbody>\n",
       "</table>\n",
       "</div>"
      ],
      "text/plain": [
       "           fname                  label\n",
       "0   00063640.wav                Shatter\n",
       "1   0013a1db.wav                  Flute\n",
       "2   002bb878.wav    Fireworks Bass_drum\n",
       "3   002d392d.wav  Bass_drum Double_bass\n",
       "4   00326aa9.wav                   Oboe\n",
       "5   0038a046.wav              Bass_drum\n",
       "6   003995fa.wav                 Squeak\n",
       "7   005ae625.wav        Acoustic_guitar\n",
       "8   007759c4.wav                  Flute\n",
       "9   008afd93.wav              Saxophone\n",
       "10  00a161c0.wav                  Cello\n",
       "11  00a7a2f6.wav               Clarinet\n",
       "12  00ae03f6.wav                  Chime\n",
       "13  00b2404e.wav                  Cello\n",
       "14  00beb030.wav               Clarinet\n",
       "15  00c4d5b8.wav        Acoustic_guitar\n",
       "16  00c92c05.wav   Acoustic_guitar Gong\n",
       "17  00ccf065.wav              Bass_drum\n",
       "18  00d0ab77.wav               Clarinet\n",
       "19  00dffe3a.wav              Bass_drum"
      ]
     },
     "execution_count": 19,
     "metadata": {},
     "output_type": "execute_result"
    }
   ],
   "source": [
    "t = 0.2\n",
    "\n",
    "for i in range(len(submission)):\n",
    "#for i in range(10):\n",
    "    \n",
    "    # Get top 3 classes\n",
    "    top_probs, top_classes = get_top_3(test_probs[i, :])\n",
    "    \n",
    "    # Select only those above threshold\n",
    "    sel = top_probs > t\n",
    "    sel[0] = True\n",
    "    sel_classes = top_classes[sel]\n",
    "    \n",
    "    pred_labels = [index_to_label[i] for i in sel_classes]\n",
    "    pred_string = ' '.join(pred_labels)\n",
    "    submission.loc[i, 'label'] = pred_string\n",
    "    \n",
    "submission.head(20)"
   ]
  },
  {
   "cell_type": "code",
   "execution_count": 20,
   "metadata": {
    "execution": {
     "iopub.execute_input": "2021-05-02T03:55:21.516755Z",
     "iopub.status.busy": "2021-05-02T03:55:21.516001Z",
     "iopub.status.idle": "2021-05-02T03:55:21.545990Z",
     "shell.execute_reply": "2021-05-02T03:55:21.545360Z"
    },
    "papermill": {
     "duration": 0.062529,
     "end_time": "2021-05-02T03:55:21.546174",
     "exception": false,
     "start_time": "2021-05-02T03:55:21.483645",
     "status": "completed"
    },
    "tags": []
   },
   "outputs": [],
   "source": [
    "submission.to_csv('submission_02.csv', index=False)"
   ]
  }
 ],
 "metadata": {
  "kernelspec": {
   "display_name": "Python 3",
   "language": "python",
   "name": "python3"
  },
  "language_info": {
   "codemirror_mode": {
    "name": "ipython",
    "version": 3
   },
   "file_extension": ".py",
   "mimetype": "text/x-python",
   "name": "python",
   "nbconvert_exporter": "python",
   "pygments_lexer": "ipython3",
   "version": "3.7.9"
  },
  "papermill": {
   "default_parameters": {},
   "duration": 234.997447,
   "end_time": "2021-05-02T03:55:22.583757",
   "environment_variables": {},
   "exception": null,
   "input_path": "__notebook__.ipynb",
   "output_path": "__notebook__.ipynb",
   "parameters": {},
   "start_time": "2021-05-02T03:51:27.586310",
   "version": "2.2.2"
  }
 },
 "nbformat": 4,
 "nbformat_minor": 4
}
